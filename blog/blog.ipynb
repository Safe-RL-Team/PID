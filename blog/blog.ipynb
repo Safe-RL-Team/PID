{
 "cells": [
  {
   "cell_type": "raw",
   "id": "2ce5283f",
   "metadata": {},
   "source": [
    "---\n",
    "title: \"Uncertainty-Based Offline Reinforcement Learning with Diversified Q-Ensemble\"\n",
    "description: \"based on [@an2021edac]\"\n",
    "author:\n",
    "    - name: Julian Dralle\n",
    "      affiliation: TU Berlin\n",
    "    - name: Jonas Loos\n",
    "      affiliation: TU Berlin\n",
    "bibliography: references.bib\n",
    "abstract: |\n",
    "    TODO: abstract\n",
    "jupyter: python3\n",
    "---"
   ]
  },
  {
   "cell_type": "markdown",
   "id": "633f2ad2-0d2e-4e23-97d7-1874247f2886",
   "metadata": {},
   "source": [
    "## Introduction\n",
    "\n",
    "### Why Offline-RL?\n",
    "\n",
    "Training of RL algorithms require **active interaction** with the environment. Training can become quite time-consuming and expensive. It can even be dangerous in safety-critical domains like driving or healthcare. A trial-and-error procedure is basically prohibited. We cannot as an example let an agent explore, make mistakes, and learn while treating patients in a hospital.\n",
    "That's what makes learning from pre-collected experience so relevant. And fortunately we have already in many domains existing large datasets.\n",
    "Offline-RL therefore aims to learn policies using only these pre-collected data without further interactions with the environment.\n",
    "\n",
    "![Online and Offline Reinforcement Learning](figures/offline_rl.gif){fig-align=\"center\" width=80%}\n",
    "\n",
    "### What properties make offline-RL difficult?\n",
    "\n",
    "But offline RL comes with its own challenges. By far the biggest problem are so called **out of distribution (OOD) actions**. OOD actions refer to actions taken by an agent that fall outside the range of actions observed in the training dataset. \n",
    "State-action space can become so vast that the dataset cannot cover all of it. Especially narrow and biased datasets lack significant coverage and can lead to problems with OOD actions. For example, healthcare datasets are often biased towards serious cases. Only seriously ill people are getting treated, while healthier people are sent home untreated.\n",
    "\n",
    "![](figures/ood_medicine.png){fig-align=\"center\" width=80%}\n",
    "\n",
    "A naive algorithm might now conclude that treatment causes death, since there were no fatalities in the untreated (= healthy) patients. Choosing to not treat a severely sick patient is something that never happened in the data, since the doctor would thereby violate his duty of care. Not treating a sick patient is therefore an OOD action. \n",
    "Vanilla RL algorithm might heavily overestimate the Q-values of OOD state-action pairs.\n",
    "\n",
    "### How to deal with OOD state-actions?\n",
    "\n",
    "\"Avoid OOD state-actions!\", has been the approach of many offline RL algorithms. This can be achieved by regularizing the policy to be close to the behavior policy that was used to collect the data. A more recent approach is to penalize the Q-values to be more pessimistic as done in Conservative Q-learning for Offline RL (CQL).\n",
    "But if we use this approach we require either (a) an estimation of the behavior policy or (b) explicit sampling from OOD data points (difficult!). Further, we prohibit our agent to approach any OOD state-actions, while some of these might actually be good. Q-function networks **do** have the ability to generalize. It's all about **handling the uncertainty** of these predictions. The agent might benefit from choosing some OOD data points which Q-values we can predict with high confidence.\n",
    "With SAC-N and EDAC An et al. (2021) found a way of **effectively quantifying the Q-value estimates** by an ensemble of Q-function networks. In this blog we will explore and explain them."
   ]
  },
  {
   "attachments": {},
   "cell_type": "markdown",
   "id": "25d15ad6-be20-4cdc-bea7-c22023923d4c",
   "metadata": {},
   "source": [
    "## The Basics\n",
    "\n",
    "\n",
    "### Q-Learning\n",
    "Like in standard reinforcement learning we want to find a policy $\\pi(a | s)$ that maximizes the cumulative discounted reward $\\mathbb{E}_{s_t, a_t}[...]$. \n",
    "The model-free [Q-learning](https://towardsdatascience.com/a-beginners-guide-to-q-learning-c3e2a30a653c) algorithm is a very common approach to learn the Q-function $Q_{\\phi}(s,a)$ with-in a neural network.\n",
    "\n",
    "### Actor-critic method\n",
    "In the standard deep actor-critic approach we use two networks: (1) a policy-based actor network and (2) a value-based critic network.\n",
    "\n",
    "![Structure of deep actor-critic RL](https://www.mdpi.com/applsci/applsci-10-04236/article_deploy/html/images/applsci-10-04236-g005.png){fig-align=\"center\" width=80%}\n",
    "\n",
    "The critic network minimizes the Bellman residual. Note: In offline RL transitions are sampled from a static dataset $D$\n",
    "\n",
    "<!-- ![](figures/critic_formula.png) -->\n",
    "\n",
    "$$J_q(Q_\\phi) := \\mathbb{E}_{(s,a,s') \\sim D} \\left[ \\left( Q_\\phi(s,a) - \\left ( r(s,a) + \\gamma\\ \\mathbb{E}_{a'\\sim\\pi_\\phi(\\cdot|s')}[Q_{\\phi'}(s',a')] \\right)\\right)^2 \\right]$$\n",
    "\n",
    "The actor network is updated in an alternating fashion to maximizes the expected Q-value.\n",
    "\n",
<<<<<<< HEAD
    "![](figures/actor_formula.png){fig-align=\"center\" width=50%}\n",
    "\n",
    "### Conservative Q-Learning\n",
    "\n",
    "As of 2021 Conservative Q-Learning [@kumar2020conservative] is the state-of-the-art for offline RL. It uses a “simple Q-value regularizer” to prevent the overestimation of OOD actions. \n",
    "\n",
    "![](figures/cql.png){fig-align=\"center\" width=80%}\n",
    "\n",
    "For each state, CQL computes a distribution over actions using a temperature parameter $\\alpha$ that controls the amount of exploration. The distribution is a mixture of the behavior policy and the current Q-function. The closer $\\alpha$ is to 1 the more conservative.\n",
    "\n",
    "CQL will be used as the baseline.\n"
=======
    "<!-- ![](figures/actor_formula.png) -->\n",
    "\n",
    "$$J_p(\\pi_\\phi) := \\mathbb{E}_{s\\sim D, a\\sim\\pi_\\phi(\\cdot|s)} \\left[ Q_\\phi(s,a) \\right]$$\n",
    "\n",
    "### Conservative Q-Learning\n",
    "\n",
    "As of 2021, Conservative Q-Learning (CQL, @Kumar2020ConservativeQF) is the state-of-the-art for offline RL. It uses a “simple Q-value regularizer” to prevent the overestimation of OOD actions. \n",
    "\n",
    "<!-- ![](figures/cql.png) -->\n",
    "\n",
    "$$\\min_\\phi J_q(Q_\\phi)+\\alpha(\\mathbb{E}_{s\\sim D, a\\sim\\mu(\\cdot|s)}[Q_\\phi(s,a)] - \\mathbb{E}_{(s,a)\\sim D}[Q_\\phi(s,a)])$$\n",
    "\n",
    "<!-- TODO: check if it's really \\mu and not \\pi_\\phi -->\n",
    "\n",
    "For each state, CQL computes a distribution over actions using a temperature parameter $\\alpha$ that controls the amount of exploration. The distribution is a mixture of the behavior policy and the current Q-function. The closer $\\alpha$ is to 1 the more conservative.\n",
    "\n",
    "CQL will be used as the baseline."
>>>>>>> 19b3908e6a7d15e1800b67285346c590d23bd728
   ]
  },
  {
   "cell_type": "markdown",
   "id": "59c651ef-5fc8-4d69-83f4-3d9edb5f0a6b",
   "metadata": {},
   "source": [
    "## Dataset"
   ]
  },
  {
   "cell_type": "markdown",
   "id": "43b3b9aa",
   "metadata": {},
   "source": [
    "## Soft Actor-Critic (SAC-N)\n",
    "\n",
    "The paper introduces two new methods for offline RL. The first method is called SAC-N and is an extension of Soft Actor-Critic (SAC) [@Haarnoja2018SoftAO], which is a popular off-policy actor-critic deep RL algorithm.\n",
    "SAC-N extends SAC by using the minimum q-value of N instead of two q-functions, i.e. critics. The idea behind using the minimum of more critics is that the resulting q-value is more pessimistic when the uncertainty is high. This prevents erroneously high q-values of OOD actions and therefore trains the actor to prefer safer actions.\n",
    "\n",
    "The minimum of multiple critics approximates the true q-value minus a multiple of the standard deviation [@an2021edac]:\n",
    "\n",
    "$$ \\mathbb{E}\\left [\\min_{i=1,...,N}Q_i\\right] \\approx m - \\Phi^{-1}\\left(\\frac{N-\\pi/8}{N-\\pi/4+1}\\right) \\sigma $$\n",
    "\n",
    "Where $N$ is the number of critics, $Q_i$ is the q-value of the $i$-th critic, $m$ is the theoretical true q-value, $\\Phi$ is the CDF of the standard gaussian distribution, and $\\sigma$ is the standard deviation.\n",
    "\n",
    "This is visualized in the diagram below, where q-value estimates over an exemplary action space are plotted.The black line is the theoretical true q-value and the grey area its standard deviation. The lightblue lines represent the critics, that try to approximate the true q-value. The bottom blue line is the minimum of the critics, that should, especially for a high number of critics, be roughly the true q-value minus a multiple of the standard deviation. You can use the slider to change the number of critics:\n",
    "\n",
    "```{ojs}\n",
    "//| echo: false\n",
    "means = [0,2,-1,0,1,1,2,0,-1,-2,0,1,2,4,3,3,1,0,-1,0];\n",
    "stds  = [2,3, 2,1,2,3,2,3, 4, 2,3,4,2,1,3,2,1,2, 3,2];\n",
    "viewof num_critics = Inputs.range([1,50], {value:20, step:1, label: \"#critics: \"});\n",
    "function gaussianRandom(mean=0, stdev=1) {\n",
    "    let u = 1 - Math.random(); // Converting [0,1) to (0,1]\n",
    "    let v = Math.random();\n",
    "    let z = Math.sqrt(-2.0*Math.log(u)) * Math.cos(2.0*Math.PI*v);\n",
    "    return z * stdev + mean;\n",
    "}\n",
    "function example_critic() {\n",
    "  return [...Array(means.length).keys()].map((i)=>gaussianRandom(means[i], stds[i]));\n",
    "}\n",
    "function toPlot(data, color){\n",
    "  return Plot.line(data.map((x, i)=>({\"action space\": i, \"q-value\": x})), {x: \"action space\", y: \"q-value\", stroke: color});\n",
    "}\n",
    "critics = [...Array(num_critics).keys()].map(i=>example_critic());\n",
    "Plot.plot({\n",
    "  marks: [\n",
    "      Plot.areaY(means.map((x,i)=>({\"action space\": i, low:x-stds[i], high:x+stds[i]})), {x: \"action space\", y1: \"low\", y2: \"high\", fill: \"#ddd\"}),\n",
    "      ...(critics.map(x=>toPlot(x, \"lightblue\"))),\n",
    "      toPlot([...Array(means.length).keys()].map(i=>Math.min(...critics.map(x=>x[i]))), \"blue\"),\n",
    "      toPlot(means, \"black\"),\n",
    "  ],\n",
    "  y: {\n",
    "    domain: [-10,10],\n",
    "    label: \"q-value\",\n",
    "  },\n",
    "  x: {\n",
    "    tickFormat: x => \"\",\n",
    "  }\n",
    "});\n",
    "```\n",
    "\n",
    "SAC-N already achieves notable performance and beats the previous state of the art, CQL, as will be shown in [Results](#results). However, SAC-N requires a large number of critics, which comes with a high computational cost. Therefore, the paper introduces a second method, EDAC, that is more efficient.\n"
   ]
  },
  {
   "cell_type": "markdown",
   "id": "682613d3",
   "metadata": {},
   "source": [
    "## Ensemble-Diversified Actor Critic (EDAC)\n",
    "\n",
    "EDAC improves over SAC-N, by introducing an ensemble gradient diversification term to the optimization of the ensemble of critics:\n",
    "\n",
    "$$ \\underset\\phi{\\text{minimize}}\\ \\ \\frac{1}{N-1} \\sum_{1\\leq i\\neq j \\leq N} \\langle \\nabla_a Q_{\\phi_i}, \\nabla_a Q_{\\phi_j} \\rangle $$\n"
   ]
  },
  {
   "cell_type": "markdown",
   "id": "77b3bee1",
   "metadata": {},
   "source": [
    "## Results\n",
    "\n",
    "{{< video figures/EDAC_reimplementation_halfcheetah.mp4 >}}\n",
    "This is a our edac reimplementation on the halfcheetah task.\n",
    "\n",
    "TODO"
   ]
  },
  {
   "cell_type": "markdown",
   "id": "558b7f3f-893e-4f71-87e0-16451bb5943a",
   "metadata": {},
   "source": [
    "For a demonstration of a simple line-plot, see @test-label1."
   ]
  },
  {
   "cell_type": "code",
   "execution_count": 29,
   "id": "db5cbfe0-b29a-4e41-96b9-298a58c90168",
   "metadata": {},
   "outputs": [
    {
     "data": {
      "text/html": [
       "        <script type=\"text/javascript\">\n",
       "        window.PlotlyConfig = {MathJaxConfig: 'local'};\n",
       "        if (window.MathJax && window.MathJax.Hub && window.MathJax.Hub.Config) {window.MathJax.Hub.Config({SVG: {font: \"STIX-Web\"}});}\n",
       "        if (typeof require !== 'undefined') {\n",
       "        require.undef(\"plotly\");\n",
       "        requirejs.config({\n",
       "            paths: {\n",
       "                'plotly': ['https://cdn.plot.ly/plotly-2.18.2.min']\n",
       "            }\n",
       "        });\n",
       "        require(['plotly'], function(Plotly) {\n",
       "            window._Plotly = Plotly;\n",
       "        });\n",
       "        }\n",
       "        </script>\n",
       "        "
      ]
     },
     "metadata": {},
     "output_type": "display_data"
    },
    {
     "data": {
      "application/vnd.plotly.v1+json": {
       "config": {
        "plotlyServerURL": "https://plot.ly"
       },
       "data": [
        {
         "hovertemplate": "variable=Group: EDAC-D4RL - eval/reward_mean<br>Step=%{x}<br>value=%{y}<extra></extra>",
         "legendgroup": "Group: EDAC-D4RL - eval/reward_mean",
         "line": {
          "color": "#636efa",
          "dash": "solid"
         },
         "marker": {
          "symbol": "circle"
         },
         "mode": "markers+lines",
         "name": "Group: EDAC-D4RL - eval/reward_mean",
         "orientation": "v",
         "showlegend": true,
         "type": "scatter",
         "x": [
          11,
          67,
          123,
          179,
          235,
          291,
          347,
          403,
          459,
          515,
          571,
          627,
          683,
          739,
          795,
          851,
          907,
          963,
          1019,
          1075,
          1131,
          1187,
          1243,
          1299,
          1355,
          1411,
          1467,
          1523,
          1579,
          1635,
          1680
         ],
         "xaxis": "x",
         "y": [
          -7.191827495745069,
          -31.630119747480073,
          -26.01604240403602,
          648.5403934140012,
          2230.3681914902927,
          2496.102171157157,
          3529.3198723595283,
          3788.9648865302856,
          3847.558008609126,
          4081.3218940764295,
          4427.022591291778,
          5209.814485614904,
          5755.377458322516,
          5725.411892364649,
          6249.7050334533815,
          5941.147526438264,
          5869.3155881686735,
          7050.034912121393,
          7009.580584215717,
          7268.05029363611,
          7146.078890307354,
          7031.748134865328,
          7240.544383034362,
          7214.036294911362,
          7401.271435354343,
          7307.311063405457,
          7419.9612774048355,
          7317.312166295378,
          7369.320318226045,
          7503.950082031106,
          7220.364646457331
         ],
         "yaxis": "y"
        },
        {
         "hovertemplate": "variable=Group: EDAC-D4RL - eval/reward_mean__MIN<br>Step=%{x}<br>value=%{y}<extra></extra>",
         "legendgroup": "Group: EDAC-D4RL - eval/reward_mean__MIN",
         "line": {
          "color": "#EF553B",
          "dash": "solid"
         },
         "marker": {
          "symbol": "circle"
         },
         "mode": "markers+lines",
         "name": "Group: EDAC-D4RL - eval/reward_mean__MIN",
         "orientation": "v",
         "showlegend": true,
         "type": "scatter",
         "x": [
          11,
          67,
          123,
          179,
          235,
          291,
          347,
          403,
          459,
          515,
          571,
          627,
          683,
          739,
          795,
          851,
          907,
          963,
          1019,
          1075,
          1131,
          1187,
          1243,
          1299,
          1355,
          1411,
          1467,
          1523,
          1579,
          1635,
          1680
         ],
         "xaxis": "x",
         "y": [
          -7.402046963260551,
          -84.6836555334162,
          -282.9247330137491,
          -80.07222524986321,
          -76.40954157345931,
          -10.381349397831675,
          -0.5163352851053276,
          -16.393740324911686,
          59.22118710565319,
          -12.372557914617548,
          44.86943008015632,
          60.367268425739574,
          72.80898054416545,
          50.60051330325186,
          2942.64222995802,
          722.4270100872537,
          766.5948199391628,
          6062.619186907393,
          6272.812475436871,
          6951.677336319644,
          6637.437071457427,
          5960.16498250416,
          6816.022492022086,
          6400.474286813075,
          7078.438349208797,
          6867.378169837827,
          7127.823401732091,
          6869.5026091845275,
          6886.459591454254,
          7162.858603531412,
          6677.287674475788
         ],
         "yaxis": "y"
        },
        {
         "hovertemplate": "variable=Group: EDAC-D4RL - eval/reward_mean__MAX<br>Step=%{x}<br>value=%{y}<extra></extra>",
         "legendgroup": "Group: EDAC-D4RL - eval/reward_mean__MAX",
         "line": {
          "color": "#00cc96",
          "dash": "solid"
         },
         "marker": {
          "symbol": "circle"
         },
         "mode": "markers+lines",
         "name": "Group: EDAC-D4RL - eval/reward_mean__MAX",
         "orientation": "v",
         "showlegend": true,
         "type": "scatter",
         "x": [
          11,
          67,
          123,
          179,
          235,
          291,
          347,
          403,
          459,
          515,
          571,
          627,
          683,
          739,
          795,
          851,
          907,
          963,
          1019,
          1075,
          1131,
          1187,
          1243,
          1299,
          1355,
          1411,
          1467,
          1523,
          1579,
          1635,
          1680
         ],
         "xaxis": "x",
         "y": [
          -6.649679999910357,
          31.722015448699132,
          187.35252285381782,
          3057.571192312281,
          6625.399466992442,
          6375.451088406225,
          6663.621200365842,
          7047.917095580802,
          7033.328212215516,
          7136.652773113213,
          7247.660251885998,
          7315.188497705664,
          7512.254648230529,
          7353.720648218016,
          7449.409187036588,
          7445.969963347789,
          7428.722315349917,
          7616.914789683683,
          7530.16494171807,
          7597.3919143745425,
          7536.587384008213,
          7776.260585381637,
          7535.448090299915,
          7581.117048950449,
          7636.109902226398,
          7679.955088096986,
          7628.663692967519,
          7763.410486504045,
          7594.958639750013,
          7768.645775000949,
          7719.210035976948
         ],
         "yaxis": "y"
        }
       ],
       "layout": {
        "autosize": true,
        "legend": {
         "title": {
          "text": "variable"
         },
         "tracegroupgap": 0
        },
        "template": {
         "data": {
          "bar": [
           {
            "error_x": {
             "color": "#2a3f5f"
            },
            "error_y": {
             "color": "#2a3f5f"
            },
            "marker": {
             "line": {
              "color": "#E5ECF6",
              "width": 0.5
             },
             "pattern": {
              "fillmode": "overlay",
              "size": 10,
              "solidity": 0.2
             }
            },
            "type": "bar"
           }
          ],
          "barpolar": [
           {
            "marker": {
             "line": {
              "color": "#E5ECF6",
              "width": 0.5
             },
             "pattern": {
              "fillmode": "overlay",
              "size": 10,
              "solidity": 0.2
             }
            },
            "type": "barpolar"
           }
          ],
          "carpet": [
           {
            "aaxis": {
             "endlinecolor": "#2a3f5f",
             "gridcolor": "white",
             "linecolor": "white",
             "minorgridcolor": "white",
             "startlinecolor": "#2a3f5f"
            },
            "baxis": {
             "endlinecolor": "#2a3f5f",
             "gridcolor": "white",
             "linecolor": "white",
             "minorgridcolor": "white",
             "startlinecolor": "#2a3f5f"
            },
            "type": "carpet"
           }
          ],
          "choropleth": [
           {
            "colorbar": {
             "outlinewidth": 0,
             "ticks": ""
            },
            "type": "choropleth"
           }
          ],
          "contour": [
           {
            "colorbar": {
             "outlinewidth": 0,
             "ticks": ""
            },
            "colorscale": [
             [
              0,
              "#0d0887"
             ],
             [
              0.1111111111111111,
              "#46039f"
             ],
             [
              0.2222222222222222,
              "#7201a8"
             ],
             [
              0.3333333333333333,
              "#9c179e"
             ],
             [
              0.4444444444444444,
              "#bd3786"
             ],
             [
              0.5555555555555556,
              "#d8576b"
             ],
             [
              0.6666666666666666,
              "#ed7953"
             ],
             [
              0.7777777777777778,
              "#fb9f3a"
             ],
             [
              0.8888888888888888,
              "#fdca26"
             ],
             [
              1,
              "#f0f921"
             ]
            ],
            "type": "contour"
           }
          ],
          "contourcarpet": [
           {
            "colorbar": {
             "outlinewidth": 0,
             "ticks": ""
            },
            "type": "contourcarpet"
           }
          ],
          "heatmap": [
           {
            "colorbar": {
             "outlinewidth": 0,
             "ticks": ""
            },
            "colorscale": [
             [
              0,
              "#0d0887"
             ],
             [
              0.1111111111111111,
              "#46039f"
             ],
             [
              0.2222222222222222,
              "#7201a8"
             ],
             [
              0.3333333333333333,
              "#9c179e"
             ],
             [
              0.4444444444444444,
              "#bd3786"
             ],
             [
              0.5555555555555556,
              "#d8576b"
             ],
             [
              0.6666666666666666,
              "#ed7953"
             ],
             [
              0.7777777777777778,
              "#fb9f3a"
             ],
             [
              0.8888888888888888,
              "#fdca26"
             ],
             [
              1,
              "#f0f921"
             ]
            ],
            "type": "heatmap"
           }
          ],
          "heatmapgl": [
           {
            "colorbar": {
             "outlinewidth": 0,
             "ticks": ""
            },
            "colorscale": [
             [
              0,
              "#0d0887"
             ],
             [
              0.1111111111111111,
              "#46039f"
             ],
             [
              0.2222222222222222,
              "#7201a8"
             ],
             [
              0.3333333333333333,
              "#9c179e"
             ],
             [
              0.4444444444444444,
              "#bd3786"
             ],
             [
              0.5555555555555556,
              "#d8576b"
             ],
             [
              0.6666666666666666,
              "#ed7953"
             ],
             [
              0.7777777777777778,
              "#fb9f3a"
             ],
             [
              0.8888888888888888,
              "#fdca26"
             ],
             [
              1,
              "#f0f921"
             ]
            ],
            "type": "heatmapgl"
           }
          ],
          "histogram": [
           {
            "marker": {
             "pattern": {
              "fillmode": "overlay",
              "size": 10,
              "solidity": 0.2
             }
            },
            "type": "histogram"
           }
          ],
          "histogram2d": [
           {
            "colorbar": {
             "outlinewidth": 0,
             "ticks": ""
            },
            "colorscale": [
             [
              0,
              "#0d0887"
             ],
             [
              0.1111111111111111,
              "#46039f"
             ],
             [
              0.2222222222222222,
              "#7201a8"
             ],
             [
              0.3333333333333333,
              "#9c179e"
             ],
             [
              0.4444444444444444,
              "#bd3786"
             ],
             [
              0.5555555555555556,
              "#d8576b"
             ],
             [
              0.6666666666666666,
              "#ed7953"
             ],
             [
              0.7777777777777778,
              "#fb9f3a"
             ],
             [
              0.8888888888888888,
              "#fdca26"
             ],
             [
              1,
              "#f0f921"
             ]
            ],
            "type": "histogram2d"
           }
          ],
          "histogram2dcontour": [
           {
            "colorbar": {
             "outlinewidth": 0,
             "ticks": ""
            },
            "colorscale": [
             [
              0,
              "#0d0887"
             ],
             [
              0.1111111111111111,
              "#46039f"
             ],
             [
              0.2222222222222222,
              "#7201a8"
             ],
             [
              0.3333333333333333,
              "#9c179e"
             ],
             [
              0.4444444444444444,
              "#bd3786"
             ],
             [
              0.5555555555555556,
              "#d8576b"
             ],
             [
              0.6666666666666666,
              "#ed7953"
             ],
             [
              0.7777777777777778,
              "#fb9f3a"
             ],
             [
              0.8888888888888888,
              "#fdca26"
             ],
             [
              1,
              "#f0f921"
             ]
            ],
            "type": "histogram2dcontour"
           }
          ],
          "mesh3d": [
           {
            "colorbar": {
             "outlinewidth": 0,
             "ticks": ""
            },
            "type": "mesh3d"
           }
          ],
          "parcoords": [
           {
            "line": {
             "colorbar": {
              "outlinewidth": 0,
              "ticks": ""
             }
            },
            "type": "parcoords"
           }
          ],
          "pie": [
           {
            "automargin": true,
            "type": "pie"
           }
          ],
          "scatter": [
           {
            "fillpattern": {
             "fillmode": "overlay",
             "size": 10,
             "solidity": 0.2
            },
            "type": "scatter"
           }
          ],
          "scatter3d": [
           {
            "line": {
             "colorbar": {
              "outlinewidth": 0,
              "ticks": ""
             }
            },
            "marker": {
             "colorbar": {
              "outlinewidth": 0,
              "ticks": ""
             }
            },
            "type": "scatter3d"
           }
          ],
          "scattercarpet": [
           {
            "marker": {
             "colorbar": {
              "outlinewidth": 0,
              "ticks": ""
             }
            },
            "type": "scattercarpet"
           }
          ],
          "scattergeo": [
           {
            "marker": {
             "colorbar": {
              "outlinewidth": 0,
              "ticks": ""
             }
            },
            "type": "scattergeo"
           }
          ],
          "scattergl": [
           {
            "marker": {
             "colorbar": {
              "outlinewidth": 0,
              "ticks": ""
             }
            },
            "type": "scattergl"
           }
          ],
          "scattermapbox": [
           {
            "marker": {
             "colorbar": {
              "outlinewidth": 0,
              "ticks": ""
             }
            },
            "type": "scattermapbox"
           }
          ],
          "scatterpolar": [
           {
            "marker": {
             "colorbar": {
              "outlinewidth": 0,
              "ticks": ""
             }
            },
            "type": "scatterpolar"
           }
          ],
          "scatterpolargl": [
           {
            "marker": {
             "colorbar": {
              "outlinewidth": 0,
              "ticks": ""
             }
            },
            "type": "scatterpolargl"
           }
          ],
          "scatterternary": [
           {
            "marker": {
             "colorbar": {
              "outlinewidth": 0,
              "ticks": ""
             }
            },
            "type": "scatterternary"
           }
          ],
          "surface": [
           {
            "colorbar": {
             "outlinewidth": 0,
             "ticks": ""
            },
            "colorscale": [
             [
              0,
              "#0d0887"
             ],
             [
              0.1111111111111111,
              "#46039f"
             ],
             [
              0.2222222222222222,
              "#7201a8"
             ],
             [
              0.3333333333333333,
              "#9c179e"
             ],
             [
              0.4444444444444444,
              "#bd3786"
             ],
             [
              0.5555555555555556,
              "#d8576b"
             ],
             [
              0.6666666666666666,
              "#ed7953"
             ],
             [
              0.7777777777777778,
              "#fb9f3a"
             ],
             [
              0.8888888888888888,
              "#fdca26"
             ],
             [
              1,
              "#f0f921"
             ]
            ],
            "type": "surface"
           }
          ],
          "table": [
           {
            "cells": {
             "fill": {
              "color": "#EBF0F8"
             },
             "line": {
              "color": "white"
             }
            },
            "header": {
             "fill": {
              "color": "#C8D4E3"
             },
             "line": {
              "color": "white"
             }
            },
            "type": "table"
           }
          ]
         },
         "layout": {
          "annotationdefaults": {
           "arrowcolor": "#2a3f5f",
           "arrowhead": 0,
           "arrowwidth": 1
          },
          "autotypenumbers": "strict",
          "coloraxis": {
           "colorbar": {
            "outlinewidth": 0,
            "ticks": ""
           }
          },
          "colorscale": {
           "diverging": [
            [
             0,
             "#8e0152"
            ],
            [
             0.1,
             "#c51b7d"
            ],
            [
             0.2,
             "#de77ae"
            ],
            [
             0.3,
             "#f1b6da"
            ],
            [
             0.4,
             "#fde0ef"
            ],
            [
             0.5,
             "#f7f7f7"
            ],
            [
             0.6,
             "#e6f5d0"
            ],
            [
             0.7,
             "#b8e186"
            ],
            [
             0.8,
             "#7fbc41"
            ],
            [
             0.9,
             "#4d9221"
            ],
            [
             1,
             "#276419"
            ]
           ],
           "sequential": [
            [
             0,
             "#0d0887"
            ],
            [
             0.1111111111111111,
             "#46039f"
            ],
            [
             0.2222222222222222,
             "#7201a8"
            ],
            [
             0.3333333333333333,
             "#9c179e"
            ],
            [
             0.4444444444444444,
             "#bd3786"
            ],
            [
             0.5555555555555556,
             "#d8576b"
            ],
            [
             0.6666666666666666,
             "#ed7953"
            ],
            [
             0.7777777777777778,
             "#fb9f3a"
            ],
            [
             0.8888888888888888,
             "#fdca26"
            ],
            [
             1,
             "#f0f921"
            ]
           ],
           "sequentialminus": [
            [
             0,
             "#0d0887"
            ],
            [
             0.1111111111111111,
             "#46039f"
            ],
            [
             0.2222222222222222,
             "#7201a8"
            ],
            [
             0.3333333333333333,
             "#9c179e"
            ],
            [
             0.4444444444444444,
             "#bd3786"
            ],
            [
             0.5555555555555556,
             "#d8576b"
            ],
            [
             0.6666666666666666,
             "#ed7953"
            ],
            [
             0.7777777777777778,
             "#fb9f3a"
            ],
            [
             0.8888888888888888,
             "#fdca26"
            ],
            [
             1,
             "#f0f921"
            ]
           ]
          },
          "colorway": [
           "#636efa",
           "#EF553B",
           "#00cc96",
           "#ab63fa",
           "#FFA15A",
           "#19d3f3",
           "#FF6692",
           "#B6E880",
           "#FF97FF",
           "#FECB52"
          ],
          "font": {
           "color": "#2a3f5f"
          },
          "geo": {
           "bgcolor": "white",
           "lakecolor": "white",
           "landcolor": "#E5ECF6",
           "showlakes": true,
           "showland": true,
           "subunitcolor": "white"
          },
          "hoverlabel": {
           "align": "left"
          },
          "hovermode": "closest",
          "mapbox": {
           "style": "light"
          },
          "paper_bgcolor": "white",
          "plot_bgcolor": "#E5ECF6",
          "polar": {
           "angularaxis": {
            "gridcolor": "white",
            "linecolor": "white",
            "ticks": ""
           },
           "bgcolor": "#E5ECF6",
           "radialaxis": {
            "gridcolor": "white",
            "linecolor": "white",
            "ticks": ""
           }
          },
          "scene": {
           "xaxis": {
            "backgroundcolor": "#E5ECF6",
            "gridcolor": "white",
            "gridwidth": 2,
            "linecolor": "white",
            "showbackground": true,
            "ticks": "",
            "zerolinecolor": "white"
           },
           "yaxis": {
            "backgroundcolor": "#E5ECF6",
            "gridcolor": "white",
            "gridwidth": 2,
            "linecolor": "white",
            "showbackground": true,
            "ticks": "",
            "zerolinecolor": "white"
           },
           "zaxis": {
            "backgroundcolor": "#E5ECF6",
            "gridcolor": "white",
            "gridwidth": 2,
            "linecolor": "white",
            "showbackground": true,
            "ticks": "",
            "zerolinecolor": "white"
           }
          },
          "shapedefaults": {
           "line": {
            "color": "#2a3f5f"
           }
          },
          "ternary": {
           "aaxis": {
            "gridcolor": "white",
            "linecolor": "white",
            "ticks": ""
           },
           "baxis": {
            "gridcolor": "white",
            "linecolor": "white",
            "ticks": ""
           },
           "bgcolor": "#E5ECF6",
           "caxis": {
            "gridcolor": "white",
            "linecolor": "white",
            "ticks": ""
           }
          },
          "title": {
           "x": 0.05
          },
          "xaxis": {
           "automargin": true,
           "gridcolor": "white",
           "linecolor": "white",
           "ticks": "",
           "title": {
            "standoff": 15
           },
           "zerolinecolor": "white",
           "zerolinewidth": 2
          },
          "yaxis": {
           "automargin": true,
           "gridcolor": "white",
           "linecolor": "white",
           "ticks": "",
           "title": {
            "standoff": 15
           },
           "zerolinecolor": "white",
           "zerolinewidth": 2
          }
         }
        },
        "title": {
         "text": "Test Graph"
        },
        "xaxis": {
         "anchor": "y",
         "autorange": true,
         "domain": [
          0,
          1
         ],
         "range": [
          -94.93804637020146,
          1785.9380463702014
         ],
         "title": {
          "text": "Step"
         },
         "type": "linear"
        },
        "yaxis": {
         "anchor": "x",
         "autorange": true,
         "domain": [
          0,
          1
         ],
         "range": [
          -948.0031330755044,
          8441.338985443392
         ],
         "title": {
          "text": "value"
         },
         "type": "linear"
        }
       }
      },
      "image/png": "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",
      "text/html": [
       "<div>                            <div id=\"fa4ff43f-f66b-431f-afa8-537c9e09236e\" class=\"plotly-graph-div\" style=\"height:525px; width:100%;\"></div>            <script type=\"text/javascript\">                require([\"plotly\"], function(Plotly) {                    window.PLOTLYENV=window.PLOTLYENV || {};                                    if (document.getElementById(\"fa4ff43f-f66b-431f-afa8-537c9e09236e\")) {                    Plotly.newPlot(                        \"fa4ff43f-f66b-431f-afa8-537c9e09236e\",                        [{\"hovertemplate\":\"variable=Group: EDAC-D4RL - eval/reward_mean<br>Step=%{x}<br>value=%{y}<extra></extra>\",\"legendgroup\":\"Group: EDAC-D4RL - eval/reward_mean\",\"line\":{\"color\":\"#636efa\",\"dash\":\"solid\"},\"marker\":{\"symbol\":\"circle\"},\"mode\":\"markers+lines\",\"name\":\"Group: EDAC-D4RL - eval/reward_mean\",\"orientation\":\"v\",\"showlegend\":true,\"x\":[11,67,123,179,235,291,347,403,459,515,571,627,683,739,795,851,907,963,1019,1075,1131,1187,1243,1299,1355,1411,1467,1523,1579,1635,1680],\"xaxis\":\"x\",\"y\":[-7.191827495745069,-31.630119747480073,-26.01604240403602,648.5403934140012,2230.3681914902927,2496.102171157157,3529.3198723595283,3788.9648865302856,3847.558008609126,4081.3218940764295,4427.022591291778,5209.814485614904,5755.377458322516,5725.411892364649,6249.7050334533815,5941.147526438264,5869.3155881686735,7050.034912121393,7009.580584215717,7268.05029363611,7146.078890307354,7031.748134865328,7240.544383034362,7214.036294911362,7401.271435354343,7307.311063405457,7419.9612774048355,7317.312166295378,7369.320318226045,7503.950082031106,7220.364646457331],\"yaxis\":\"y\",\"type\":\"scatter\"},{\"hovertemplate\":\"variable=Group: EDAC-D4RL - eval/reward_mean__MIN<br>Step=%{x}<br>value=%{y}<extra></extra>\",\"legendgroup\":\"Group: EDAC-D4RL - eval/reward_mean__MIN\",\"line\":{\"color\":\"#EF553B\",\"dash\":\"solid\"},\"marker\":{\"symbol\":\"circle\"},\"mode\":\"markers+lines\",\"name\":\"Group: EDAC-D4RL - eval/reward_mean__MIN\",\"orientation\":\"v\",\"showlegend\":true,\"x\":[11,67,123,179,235,291,347,403,459,515,571,627,683,739,795,851,907,963,1019,1075,1131,1187,1243,1299,1355,1411,1467,1523,1579,1635,1680],\"xaxis\":\"x\",\"y\":[-7.402046963260551,-84.6836555334162,-282.9247330137491,-80.07222524986321,-76.40954157345931,-10.381349397831675,-0.5163352851053276,-16.393740324911686,59.22118710565319,-12.372557914617548,44.86943008015632,60.367268425739574,72.80898054416545,50.60051330325186,2942.64222995802,722.4270100872537,766.5948199391628,6062.619186907393,6272.812475436871,6951.677336319644,6637.437071457427,5960.16498250416,6816.022492022086,6400.474286813075,7078.438349208797,6867.378169837827,7127.823401732091,6869.5026091845275,6886.459591454254,7162.858603531412,6677.287674475788],\"yaxis\":\"y\",\"type\":\"scatter\"},{\"hovertemplate\":\"variable=Group: EDAC-D4RL - eval/reward_mean__MAX<br>Step=%{x}<br>value=%{y}<extra></extra>\",\"legendgroup\":\"Group: EDAC-D4RL - eval/reward_mean__MAX\",\"line\":{\"color\":\"#00cc96\",\"dash\":\"solid\"},\"marker\":{\"symbol\":\"circle\"},\"mode\":\"markers+lines\",\"name\":\"Group: EDAC-D4RL - eval/reward_mean__MAX\",\"orientation\":\"v\",\"showlegend\":true,\"x\":[11,67,123,179,235,291,347,403,459,515,571,627,683,739,795,851,907,963,1019,1075,1131,1187,1243,1299,1355,1411,1467,1523,1579,1635,1680],\"xaxis\":\"x\",\"y\":[-6.649679999910357,31.722015448699132,187.35252285381782,3057.571192312281,6625.399466992442,6375.451088406225,6663.621200365842,7047.917095580802,7033.328212215516,7136.652773113213,7247.660251885998,7315.188497705664,7512.254648230529,7353.720648218016,7449.409187036588,7445.969963347789,7428.722315349917,7616.914789683683,7530.16494171807,7597.3919143745425,7536.587384008213,7776.260585381637,7535.448090299915,7581.117048950449,7636.109902226398,7679.955088096986,7628.663692967519,7763.410486504045,7594.958639750013,7768.645775000949,7719.210035976948],\"yaxis\":\"y\",\"type\":\"scatter\"}],                        {\"template\":{\"data\":{\"histogram2dcontour\":[{\"type\":\"histogram2dcontour\",\"colorbar\":{\"outlinewidth\":0,\"ticks\":\"\"},\"colorscale\":[[0.0,\"#0d0887\"],[0.1111111111111111,\"#46039f\"],[0.2222222222222222,\"#7201a8\"],[0.3333333333333333,\"#9c179e\"],[0.4444444444444444,\"#bd3786\"],[0.5555555555555556,\"#d8576b\"],[0.6666666666666666,\"#ed7953\"],[0.7777777777777778,\"#fb9f3a\"],[0.8888888888888888,\"#fdca26\"],[1.0,\"#f0f921\"]]}],\"choropleth\":[{\"type\":\"choropleth\",\"colorbar\":{\"outlinewidth\":0,\"ticks\":\"\"}}],\"histogram2d\":[{\"type\":\"histogram2d\",\"colorbar\":{\"outlinewidth\":0,\"ticks\":\"\"},\"colorscale\":[[0.0,\"#0d0887\"],[0.1111111111111111,\"#46039f\"],[0.2222222222222222,\"#7201a8\"],[0.3333333333333333,\"#9c179e\"],[0.4444444444444444,\"#bd3786\"],[0.5555555555555556,\"#d8576b\"],[0.6666666666666666,\"#ed7953\"],[0.7777777777777778,\"#fb9f3a\"],[0.8888888888888888,\"#fdca26\"],[1.0,\"#f0f921\"]]}],\"heatmap\":[{\"type\":\"heatmap\",\"colorbar\":{\"outlinewidth\":0,\"ticks\":\"\"},\"colorscale\":[[0.0,\"#0d0887\"],[0.1111111111111111,\"#46039f\"],[0.2222222222222222,\"#7201a8\"],[0.3333333333333333,\"#9c179e\"],[0.4444444444444444,\"#bd3786\"],[0.5555555555555556,\"#d8576b\"],[0.6666666666666666,\"#ed7953\"],[0.7777777777777778,\"#fb9f3a\"],[0.8888888888888888,\"#fdca26\"],[1.0,\"#f0f921\"]]}],\"heatmapgl\":[{\"type\":\"heatmapgl\",\"colorbar\":{\"outlinewidth\":0,\"ticks\":\"\"},\"colorscale\":[[0.0,\"#0d0887\"],[0.1111111111111111,\"#46039f\"],[0.2222222222222222,\"#7201a8\"],[0.3333333333333333,\"#9c179e\"],[0.4444444444444444,\"#bd3786\"],[0.5555555555555556,\"#d8576b\"],[0.6666666666666666,\"#ed7953\"],[0.7777777777777778,\"#fb9f3a\"],[0.8888888888888888,\"#fdca26\"],[1.0,\"#f0f921\"]]}],\"contourcarpet\":[{\"type\":\"contourcarpet\",\"colorbar\":{\"outlinewidth\":0,\"ticks\":\"\"}}],\"contour\":[{\"type\":\"contour\",\"colorbar\":{\"outlinewidth\":0,\"ticks\":\"\"},\"colorscale\":[[0.0,\"#0d0887\"],[0.1111111111111111,\"#46039f\"],[0.2222222222222222,\"#7201a8\"],[0.3333333333333333,\"#9c179e\"],[0.4444444444444444,\"#bd3786\"],[0.5555555555555556,\"#d8576b\"],[0.6666666666666666,\"#ed7953\"],[0.7777777777777778,\"#fb9f3a\"],[0.8888888888888888,\"#fdca26\"],[1.0,\"#f0f921\"]]}],\"surface\":[{\"type\":\"surface\",\"colorbar\":{\"outlinewidth\":0,\"ticks\":\"\"},\"colorscale\":[[0.0,\"#0d0887\"],[0.1111111111111111,\"#46039f\"],[0.2222222222222222,\"#7201a8\"],[0.3333333333333333,\"#9c179e\"],[0.4444444444444444,\"#bd3786\"],[0.5555555555555556,\"#d8576b\"],[0.6666666666666666,\"#ed7953\"],[0.7777777777777778,\"#fb9f3a\"],[0.8888888888888888,\"#fdca26\"],[1.0,\"#f0f921\"]]}],\"mesh3d\":[{\"type\":\"mesh3d\",\"colorbar\":{\"outlinewidth\":0,\"ticks\":\"\"}}],\"scatter\":[{\"fillpattern\":{\"fillmode\":\"overlay\",\"size\":10,\"solidity\":0.2},\"type\":\"scatter\"}],\"parcoords\":[{\"type\":\"parcoords\",\"line\":{\"colorbar\":{\"outlinewidth\":0,\"ticks\":\"\"}}}],\"scatterpolargl\":[{\"type\":\"scatterpolargl\",\"marker\":{\"colorbar\":{\"outlinewidth\":0,\"ticks\":\"\"}}}],\"bar\":[{\"error_x\":{\"color\":\"#2a3f5f\"},\"error_y\":{\"color\":\"#2a3f5f\"},\"marker\":{\"line\":{\"color\":\"#E5ECF6\",\"width\":0.5},\"pattern\":{\"fillmode\":\"overlay\",\"size\":10,\"solidity\":0.2}},\"type\":\"bar\"}],\"scattergeo\":[{\"type\":\"scattergeo\",\"marker\":{\"colorbar\":{\"outlinewidth\":0,\"ticks\":\"\"}}}],\"scatterpolar\":[{\"type\":\"scatterpolar\",\"marker\":{\"colorbar\":{\"outlinewidth\":0,\"ticks\":\"\"}}}],\"histogram\":[{\"marker\":{\"pattern\":{\"fillmode\":\"overlay\",\"size\":10,\"solidity\":0.2}},\"type\":\"histogram\"}],\"scattergl\":[{\"type\":\"scattergl\",\"marker\":{\"colorbar\":{\"outlinewidth\":0,\"ticks\":\"\"}}}],\"scatter3d\":[{\"type\":\"scatter3d\",\"line\":{\"colorbar\":{\"outlinewidth\":0,\"ticks\":\"\"}},\"marker\":{\"colorbar\":{\"outlinewidth\":0,\"ticks\":\"\"}}}],\"scattermapbox\":[{\"type\":\"scattermapbox\",\"marker\":{\"colorbar\":{\"outlinewidth\":0,\"ticks\":\"\"}}}],\"scatterternary\":[{\"type\":\"scatterternary\",\"marker\":{\"colorbar\":{\"outlinewidth\":0,\"ticks\":\"\"}}}],\"scattercarpet\":[{\"type\":\"scattercarpet\",\"marker\":{\"colorbar\":{\"outlinewidth\":0,\"ticks\":\"\"}}}],\"carpet\":[{\"aaxis\":{\"endlinecolor\":\"#2a3f5f\",\"gridcolor\":\"white\",\"linecolor\":\"white\",\"minorgridcolor\":\"white\",\"startlinecolor\":\"#2a3f5f\"},\"baxis\":{\"endlinecolor\":\"#2a3f5f\",\"gridcolor\":\"white\",\"linecolor\":\"white\",\"minorgridcolor\":\"white\",\"startlinecolor\":\"#2a3f5f\"},\"type\":\"carpet\"}],\"table\":[{\"cells\":{\"fill\":{\"color\":\"#EBF0F8\"},\"line\":{\"color\":\"white\"}},\"header\":{\"fill\":{\"color\":\"#C8D4E3\"},\"line\":{\"color\":\"white\"}},\"type\":\"table\"}],\"barpolar\":[{\"marker\":{\"line\":{\"color\":\"#E5ECF6\",\"width\":0.5},\"pattern\":{\"fillmode\":\"overlay\",\"size\":10,\"solidity\":0.2}},\"type\":\"barpolar\"}],\"pie\":[{\"automargin\":true,\"type\":\"pie\"}]},\"layout\":{\"autotypenumbers\":\"strict\",\"colorway\":[\"#636efa\",\"#EF553B\",\"#00cc96\",\"#ab63fa\",\"#FFA15A\",\"#19d3f3\",\"#FF6692\",\"#B6E880\",\"#FF97FF\",\"#FECB52\"],\"font\":{\"color\":\"#2a3f5f\"},\"hovermode\":\"closest\",\"hoverlabel\":{\"align\":\"left\"},\"paper_bgcolor\":\"white\",\"plot_bgcolor\":\"#E5ECF6\",\"polar\":{\"bgcolor\":\"#E5ECF6\",\"angularaxis\":{\"gridcolor\":\"white\",\"linecolor\":\"white\",\"ticks\":\"\"},\"radialaxis\":{\"gridcolor\":\"white\",\"linecolor\":\"white\",\"ticks\":\"\"}},\"ternary\":{\"bgcolor\":\"#E5ECF6\",\"aaxis\":{\"gridcolor\":\"white\",\"linecolor\":\"white\",\"ticks\":\"\"},\"baxis\":{\"gridcolor\":\"white\",\"linecolor\":\"white\",\"ticks\":\"\"},\"caxis\":{\"gridcolor\":\"white\",\"linecolor\":\"white\",\"ticks\":\"\"}},\"coloraxis\":{\"colorbar\":{\"outlinewidth\":0,\"ticks\":\"\"}},\"colorscale\":{\"sequential\":[[0.0,\"#0d0887\"],[0.1111111111111111,\"#46039f\"],[0.2222222222222222,\"#7201a8\"],[0.3333333333333333,\"#9c179e\"],[0.4444444444444444,\"#bd3786\"],[0.5555555555555556,\"#d8576b\"],[0.6666666666666666,\"#ed7953\"],[0.7777777777777778,\"#fb9f3a\"],[0.8888888888888888,\"#fdca26\"],[1.0,\"#f0f921\"]],\"sequentialminus\":[[0.0,\"#0d0887\"],[0.1111111111111111,\"#46039f\"],[0.2222222222222222,\"#7201a8\"],[0.3333333333333333,\"#9c179e\"],[0.4444444444444444,\"#bd3786\"],[0.5555555555555556,\"#d8576b\"],[0.6666666666666666,\"#ed7953\"],[0.7777777777777778,\"#fb9f3a\"],[0.8888888888888888,\"#fdca26\"],[1.0,\"#f0f921\"]],\"diverging\":[[0,\"#8e0152\"],[0.1,\"#c51b7d\"],[0.2,\"#de77ae\"],[0.3,\"#f1b6da\"],[0.4,\"#fde0ef\"],[0.5,\"#f7f7f7\"],[0.6,\"#e6f5d0\"],[0.7,\"#b8e186\"],[0.8,\"#7fbc41\"],[0.9,\"#4d9221\"],[1,\"#276419\"]]},\"xaxis\":{\"gridcolor\":\"white\",\"linecolor\":\"white\",\"ticks\":\"\",\"title\":{\"standoff\":15},\"zerolinecolor\":\"white\",\"automargin\":true,\"zerolinewidth\":2},\"yaxis\":{\"gridcolor\":\"white\",\"linecolor\":\"white\",\"ticks\":\"\",\"title\":{\"standoff\":15},\"zerolinecolor\":\"white\",\"automargin\":true,\"zerolinewidth\":2},\"scene\":{\"xaxis\":{\"backgroundcolor\":\"#E5ECF6\",\"gridcolor\":\"white\",\"linecolor\":\"white\",\"showbackground\":true,\"ticks\":\"\",\"zerolinecolor\":\"white\",\"gridwidth\":2},\"yaxis\":{\"backgroundcolor\":\"#E5ECF6\",\"gridcolor\":\"white\",\"linecolor\":\"white\",\"showbackground\":true,\"ticks\":\"\",\"zerolinecolor\":\"white\",\"gridwidth\":2},\"zaxis\":{\"backgroundcolor\":\"#E5ECF6\",\"gridcolor\":\"white\",\"linecolor\":\"white\",\"showbackground\":true,\"ticks\":\"\",\"zerolinecolor\":\"white\",\"gridwidth\":2}},\"shapedefaults\":{\"line\":{\"color\":\"#2a3f5f\"}},\"annotationdefaults\":{\"arrowcolor\":\"#2a3f5f\",\"arrowhead\":0,\"arrowwidth\":1},\"geo\":{\"bgcolor\":\"white\",\"landcolor\":\"#E5ECF6\",\"subunitcolor\":\"white\",\"showland\":true,\"showlakes\":true,\"lakecolor\":\"white\"},\"title\":{\"x\":0.05},\"mapbox\":{\"style\":\"light\"}}},\"xaxis\":{\"anchor\":\"y\",\"domain\":[0.0,1.0],\"title\":{\"text\":\"Step\"}},\"yaxis\":{\"anchor\":\"x\",\"domain\":[0.0,1.0],\"title\":{\"text\":\"value\"}},\"legend\":{\"title\":{\"text\":\"variable\"},\"tracegroupgap\":0},\"title\":{\"text\":\"Test Graph\"}},                        {\"responsive\": true}                    ).then(function(){\n",
       "                            \n",
       "var gd = document.getElementById('fa4ff43f-f66b-431f-afa8-537c9e09236e');\n",
       "var x = new MutationObserver(function (mutations, observer) {{\n",
       "        var display = window.getComputedStyle(gd).display;\n",
       "        if (!display || display === 'none') {{\n",
       "            console.log([gd, 'removed!']);\n",
       "            Plotly.purge(gd);\n",
       "            observer.disconnect();\n",
       "        }}\n",
       "}});\n",
       "\n",
       "// Listen for the removal of the full notebook cells\n",
       "var notebookContainer = gd.closest('#notebook-container');\n",
       "if (notebookContainer) {{\n",
       "    x.observe(notebookContainer, {childList: true});\n",
       "}}\n",
       "\n",
       "// Listen for the clearing of the current output cell\n",
       "var outputEl = gd.closest('.output');\n",
       "if (outputEl) {{\n",
       "    x.observe(outputEl, {childList: true});\n",
       "}}\n",
       "\n",
       "                        })                };                });            </script>        </div>"
      ]
     },
     "metadata": {},
     "output_type": "display_data"
    }
   ],
   "source": [
    "#| label: test-label1\n",
    "#| fig-cap: \"fig-cap example1\"\n",
    "#| echo: false\n",
    "\n",
    "import pandas as pd\n",
    "import plotly.express as px\n",
    "import plotly.io as pio\n",
    "pio.renderers.default = \"plotly_mimetype+notebook_connected\"\n",
    "\n",
    "df = pd.read_csv('data/test.csv')\n",
    "\n",
    "fig = px.line(df, x=\"Step\", \n",
    "              y=[\"Group: EDAC-D4RL - eval/reward_mean\",\"Group: EDAC-D4RL - eval/reward_mean__MIN\",\"Group: EDAC-D4RL - eval/reward_mean__MAX\"],\n",
    "             title=\"Test Graph\",\n",
    "             markers=True)\n",
    "\n",
    "fig.show()"
   ]
  },
  {
   "cell_type": "code",
   "execution_count": 31,
   "id": "0ce9eb25-06b1-4314-9e76-7141d7f3b0b4",
   "metadata": {},
   "outputs": [
    {
     "data": {
      "text/html": [
       "        <script type=\"text/javascript\">\n",
       "        window.PlotlyConfig = {MathJaxConfig: 'local'};\n",
       "        if (window.MathJax && window.MathJax.Hub && window.MathJax.Hub.Config) {window.MathJax.Hub.Config({SVG: {font: \"STIX-Web\"}});}\n",
       "        if (typeof require !== 'undefined') {\n",
       "        require.undef(\"plotly\");\n",
       "        requirejs.config({\n",
       "            paths: {\n",
       "                'plotly': ['https://cdn.plot.ly/plotly-2.18.2.min']\n",
       "            }\n",
       "        });\n",
       "        require(['plotly'], function(Plotly) {\n",
       "            window._Plotly = Plotly;\n",
       "        });\n",
       "        }\n",
       "        </script>\n",
       "        "
      ]
     },
     "metadata": {},
     "output_type": "display_data"
    },
    {
     "data": {
      "application/vnd.plotly.v1+json": {
       "config": {
        "plotlyServerURL": "https://plot.ly"
       },
       "data": [
        {
         "line": {
          "color": "firebrick",
          "dash": "dash",
          "width": 2
         },
         "name": "Line 1",
         "type": "scatter",
         "x": [
          11,
          67,
          123,
          179,
          235,
          291,
          347,
          403,
          459,
          515,
          571,
          627,
          683,
          739,
          795,
          851,
          907,
          963,
          1019,
          1075,
          1131,
          1187,
          1243,
          1299,
          1355,
          1411,
          1467,
          1523,
          1579,
          1635,
          1680
         ],
         "y": [
          -7.191827495745069,
          -31.630119747480073,
          -26.01604240403602,
          648.5403934140012,
          2230.3681914902927,
          2496.102171157157,
          3529.3198723595283,
          3788.9648865302856,
          3847.558008609126,
          4081.3218940764295,
          4427.022591291778,
          5209.814485614904,
          5755.377458322516,
          5725.411892364649,
          6249.7050334533815,
          5941.147526438264,
          5869.3155881686735,
          7050.034912121393,
          7009.580584215717,
          7268.05029363611,
          7146.078890307354,
          7031.748134865328,
          7240.544383034362,
          7214.036294911362,
          7401.271435354343,
          7307.311063405457,
          7419.9612774048355,
          7317.312166295378,
          7369.320318226045,
          7503.950082031106,
          7220.364646457331
         ]
        },
        {
         "line": {
          "color": "royalblue",
          "width": 2
         },
         "mode": "lines+markers",
         "name": "Line 2",
         "type": "scatter",
         "x": [
          11,
          67,
          123,
          179,
          235,
          291,
          347,
          403,
          459,
          515,
          571,
          627,
          683,
          739,
          795,
          851,
          907,
          963,
          1019,
          1075,
          1131,
          1187,
          1243,
          1299,
          1355,
          1411,
          1467,
          1523,
          1579,
          1635,
          1680
         ],
         "y": [
          -7.402046963260551,
          -84.6836555334162,
          -282.9247330137491,
          -80.07222524986321,
          -76.40954157345931,
          -10.381349397831675,
          -0.5163352851053276,
          -16.393740324911686,
          59.22118710565319,
          -12.372557914617548,
          44.86943008015632,
          60.367268425739574,
          72.80898054416545,
          50.60051330325186,
          2942.64222995802,
          722.4270100872537,
          766.5948199391628,
          6062.619186907393,
          6272.812475436871,
          6951.677336319644,
          6637.437071457427,
          5960.16498250416,
          6816.022492022086,
          6400.474286813075,
          7078.438349208797,
          6867.378169837827,
          7127.823401732091,
          6869.5026091845275,
          6886.459591454254,
          7162.858603531412,
          6677.287674475788
         ]
        },
        {
         "line": {
          "color": "goldenrod",
          "width": 2
         },
         "name": "Line 3",
         "type": "scatter",
         "x": [
          11,
          67,
          123,
          179,
          235,
          291,
          347,
          403,
          459,
          515,
          571,
          627,
          683,
          739,
          795,
          851,
          907,
          963,
          1019,
          1075,
          1131,
          1187,
          1243,
          1299,
          1355,
          1411,
          1467,
          1523,
          1579,
          1635,
          1680
         ],
         "y": [
          -6.649679999910357,
          31.722015448699132,
          187.35252285381782,
          3057.571192312281,
          6625.399466992442,
          6375.451088406225,
          6663.621200365842,
          7047.917095580802,
          7033.328212215516,
          7136.652773113213,
          7247.660251885998,
          7315.188497705664,
          7512.254648230529,
          7353.720648218016,
          7449.409187036588,
          7445.969963347789,
          7428.722315349917,
          7616.914789683683,
          7530.16494171807,
          7597.3919143745425,
          7536.587384008213,
          7776.260585381637,
          7535.448090299915,
          7581.117048950449,
          7636.109902226398,
          7679.955088096986,
          7628.663692967519,
          7763.410486504045,
          7594.958639750013,
          7768.645775000949,
          7719.210035976948
         ]
        }
       ],
       "layout": {
        "autosize": false,
        "font": {
         "color": "RebeccaPurple",
         "family": "Courier New, monospace",
         "size": 18
        },
        "height": 400,
        "legend": {
         "title": {
          "text": "Legend Title"
         }
        },
        "margin": {
         "autoexpand": true,
         "l": 100,
         "r": 20,
         "t": 110
        },
        "plot_bgcolor": "white",
        "showlegend": true,
        "template": {
         "data": {
          "bar": [
           {
            "error_x": {
             "color": "#2a3f5f"
            },
            "error_y": {
             "color": "#2a3f5f"
            },
            "marker": {
             "line": {
              "color": "#E5ECF6",
              "width": 0.5
             },
             "pattern": {
              "fillmode": "overlay",
              "size": 10,
              "solidity": 0.2
             }
            },
            "type": "bar"
           }
          ],
          "barpolar": [
           {
            "marker": {
             "line": {
              "color": "#E5ECF6",
              "width": 0.5
             },
             "pattern": {
              "fillmode": "overlay",
              "size": 10,
              "solidity": 0.2
             }
            },
            "type": "barpolar"
           }
          ],
          "carpet": [
           {
            "aaxis": {
             "endlinecolor": "#2a3f5f",
             "gridcolor": "white",
             "linecolor": "white",
             "minorgridcolor": "white",
             "startlinecolor": "#2a3f5f"
            },
            "baxis": {
             "endlinecolor": "#2a3f5f",
             "gridcolor": "white",
             "linecolor": "white",
             "minorgridcolor": "white",
             "startlinecolor": "#2a3f5f"
            },
            "type": "carpet"
           }
          ],
          "choropleth": [
           {
            "colorbar": {
             "outlinewidth": 0,
             "ticks": ""
            },
            "type": "choropleth"
           }
          ],
          "contour": [
           {
            "colorbar": {
             "outlinewidth": 0,
             "ticks": ""
            },
            "colorscale": [
             [
              0,
              "#0d0887"
             ],
             [
              0.1111111111111111,
              "#46039f"
             ],
             [
              0.2222222222222222,
              "#7201a8"
             ],
             [
              0.3333333333333333,
              "#9c179e"
             ],
             [
              0.4444444444444444,
              "#bd3786"
             ],
             [
              0.5555555555555556,
              "#d8576b"
             ],
             [
              0.6666666666666666,
              "#ed7953"
             ],
             [
              0.7777777777777778,
              "#fb9f3a"
             ],
             [
              0.8888888888888888,
              "#fdca26"
             ],
             [
              1,
              "#f0f921"
             ]
            ],
            "type": "contour"
           }
          ],
          "contourcarpet": [
           {
            "colorbar": {
             "outlinewidth": 0,
             "ticks": ""
            },
            "type": "contourcarpet"
           }
          ],
          "heatmap": [
           {
            "colorbar": {
             "outlinewidth": 0,
             "ticks": ""
            },
            "colorscale": [
             [
              0,
              "#0d0887"
             ],
             [
              0.1111111111111111,
              "#46039f"
             ],
             [
              0.2222222222222222,
              "#7201a8"
             ],
             [
              0.3333333333333333,
              "#9c179e"
             ],
             [
              0.4444444444444444,
              "#bd3786"
             ],
             [
              0.5555555555555556,
              "#d8576b"
             ],
             [
              0.6666666666666666,
              "#ed7953"
             ],
             [
              0.7777777777777778,
              "#fb9f3a"
             ],
             [
              0.8888888888888888,
              "#fdca26"
             ],
             [
              1,
              "#f0f921"
             ]
            ],
            "type": "heatmap"
           }
          ],
          "heatmapgl": [
           {
            "colorbar": {
             "outlinewidth": 0,
             "ticks": ""
            },
            "colorscale": [
             [
              0,
              "#0d0887"
             ],
             [
              0.1111111111111111,
              "#46039f"
             ],
             [
              0.2222222222222222,
              "#7201a8"
             ],
             [
              0.3333333333333333,
              "#9c179e"
             ],
             [
              0.4444444444444444,
              "#bd3786"
             ],
             [
              0.5555555555555556,
              "#d8576b"
             ],
             [
              0.6666666666666666,
              "#ed7953"
             ],
             [
              0.7777777777777778,
              "#fb9f3a"
             ],
             [
              0.8888888888888888,
              "#fdca26"
             ],
             [
              1,
              "#f0f921"
             ]
            ],
            "type": "heatmapgl"
           }
          ],
          "histogram": [
           {
            "marker": {
             "pattern": {
              "fillmode": "overlay",
              "size": 10,
              "solidity": 0.2
             }
            },
            "type": "histogram"
           }
          ],
          "histogram2d": [
           {
            "colorbar": {
             "outlinewidth": 0,
             "ticks": ""
            },
            "colorscale": [
             [
              0,
              "#0d0887"
             ],
             [
              0.1111111111111111,
              "#46039f"
             ],
             [
              0.2222222222222222,
              "#7201a8"
             ],
             [
              0.3333333333333333,
              "#9c179e"
             ],
             [
              0.4444444444444444,
              "#bd3786"
             ],
             [
              0.5555555555555556,
              "#d8576b"
             ],
             [
              0.6666666666666666,
              "#ed7953"
             ],
             [
              0.7777777777777778,
              "#fb9f3a"
             ],
             [
              0.8888888888888888,
              "#fdca26"
             ],
             [
              1,
              "#f0f921"
             ]
            ],
            "type": "histogram2d"
           }
          ],
          "histogram2dcontour": [
           {
            "colorbar": {
             "outlinewidth": 0,
             "ticks": ""
            },
            "colorscale": [
             [
              0,
              "#0d0887"
             ],
             [
              0.1111111111111111,
              "#46039f"
             ],
             [
              0.2222222222222222,
              "#7201a8"
             ],
             [
              0.3333333333333333,
              "#9c179e"
             ],
             [
              0.4444444444444444,
              "#bd3786"
             ],
             [
              0.5555555555555556,
              "#d8576b"
             ],
             [
              0.6666666666666666,
              "#ed7953"
             ],
             [
              0.7777777777777778,
              "#fb9f3a"
             ],
             [
              0.8888888888888888,
              "#fdca26"
             ],
             [
              1,
              "#f0f921"
             ]
            ],
            "type": "histogram2dcontour"
           }
          ],
          "mesh3d": [
           {
            "colorbar": {
             "outlinewidth": 0,
             "ticks": ""
            },
            "type": "mesh3d"
           }
          ],
          "parcoords": [
           {
            "line": {
             "colorbar": {
              "outlinewidth": 0,
              "ticks": ""
             }
            },
            "type": "parcoords"
           }
          ],
          "pie": [
           {
            "automargin": true,
            "type": "pie"
           }
          ],
          "scatter": [
           {
            "fillpattern": {
             "fillmode": "overlay",
             "size": 10,
             "solidity": 0.2
            },
            "type": "scatter"
           }
          ],
          "scatter3d": [
           {
            "line": {
             "colorbar": {
              "outlinewidth": 0,
              "ticks": ""
             }
            },
            "marker": {
             "colorbar": {
              "outlinewidth": 0,
              "ticks": ""
             }
            },
            "type": "scatter3d"
           }
          ],
          "scattercarpet": [
           {
            "marker": {
             "colorbar": {
              "outlinewidth": 0,
              "ticks": ""
             }
            },
            "type": "scattercarpet"
           }
          ],
          "scattergeo": [
           {
            "marker": {
             "colorbar": {
              "outlinewidth": 0,
              "ticks": ""
             }
            },
            "type": "scattergeo"
           }
          ],
          "scattergl": [
           {
            "marker": {
             "colorbar": {
              "outlinewidth": 0,
              "ticks": ""
             }
            },
            "type": "scattergl"
           }
          ],
          "scattermapbox": [
           {
            "marker": {
             "colorbar": {
              "outlinewidth": 0,
              "ticks": ""
             }
            },
            "type": "scattermapbox"
           }
          ],
          "scatterpolar": [
           {
            "marker": {
             "colorbar": {
              "outlinewidth": 0,
              "ticks": ""
             }
            },
            "type": "scatterpolar"
           }
          ],
          "scatterpolargl": [
           {
            "marker": {
             "colorbar": {
              "outlinewidth": 0,
              "ticks": ""
             }
            },
            "type": "scatterpolargl"
           }
          ],
          "scatterternary": [
           {
            "marker": {
             "colorbar": {
              "outlinewidth": 0,
              "ticks": ""
             }
            },
            "type": "scatterternary"
           }
          ],
          "surface": [
           {
            "colorbar": {
             "outlinewidth": 0,
             "ticks": ""
            },
            "colorscale": [
             [
              0,
              "#0d0887"
             ],
             [
              0.1111111111111111,
              "#46039f"
             ],
             [
              0.2222222222222222,
              "#7201a8"
             ],
             [
              0.3333333333333333,
              "#9c179e"
             ],
             [
              0.4444444444444444,
              "#bd3786"
             ],
             [
              0.5555555555555556,
              "#d8576b"
             ],
             [
              0.6666666666666666,
              "#ed7953"
             ],
             [
              0.7777777777777778,
              "#fb9f3a"
             ],
             [
              0.8888888888888888,
              "#fdca26"
             ],
             [
              1,
              "#f0f921"
             ]
            ],
            "type": "surface"
           }
          ],
          "table": [
           {
            "cells": {
             "fill": {
              "color": "#EBF0F8"
             },
             "line": {
              "color": "white"
             }
            },
            "header": {
             "fill": {
              "color": "#C8D4E3"
             },
             "line": {
              "color": "white"
             }
            },
            "type": "table"
           }
          ]
         },
         "layout": {
          "annotationdefaults": {
           "arrowcolor": "#2a3f5f",
           "arrowhead": 0,
           "arrowwidth": 1
          },
          "autotypenumbers": "strict",
          "coloraxis": {
           "colorbar": {
            "outlinewidth": 0,
            "ticks": ""
           }
          },
          "colorscale": {
           "diverging": [
            [
             0,
             "#8e0152"
            ],
            [
             0.1,
             "#c51b7d"
            ],
            [
             0.2,
             "#de77ae"
            ],
            [
             0.3,
             "#f1b6da"
            ],
            [
             0.4,
             "#fde0ef"
            ],
            [
             0.5,
             "#f7f7f7"
            ],
            [
             0.6,
             "#e6f5d0"
            ],
            [
             0.7,
             "#b8e186"
            ],
            [
             0.8,
             "#7fbc41"
            ],
            [
             0.9,
             "#4d9221"
            ],
            [
             1,
             "#276419"
            ]
           ],
           "sequential": [
            [
             0,
             "#0d0887"
            ],
            [
             0.1111111111111111,
             "#46039f"
            ],
            [
             0.2222222222222222,
             "#7201a8"
            ],
            [
             0.3333333333333333,
             "#9c179e"
            ],
            [
             0.4444444444444444,
             "#bd3786"
            ],
            [
             0.5555555555555556,
             "#d8576b"
            ],
            [
             0.6666666666666666,
             "#ed7953"
            ],
            [
             0.7777777777777778,
             "#fb9f3a"
            ],
            [
             0.8888888888888888,
             "#fdca26"
            ],
            [
             1,
             "#f0f921"
            ]
           ],
           "sequentialminus": [
            [
             0,
             "#0d0887"
            ],
            [
             0.1111111111111111,
             "#46039f"
            ],
            [
             0.2222222222222222,
             "#7201a8"
            ],
            [
             0.3333333333333333,
             "#9c179e"
            ],
            [
             0.4444444444444444,
             "#bd3786"
            ],
            [
             0.5555555555555556,
             "#d8576b"
            ],
            [
             0.6666666666666666,
             "#ed7953"
            ],
            [
             0.7777777777777778,
             "#fb9f3a"
            ],
            [
             0.8888888888888888,
             "#fdca26"
            ],
            [
             1,
             "#f0f921"
            ]
           ]
          },
          "colorway": [
           "#636efa",
           "#EF553B",
           "#00cc96",
           "#ab63fa",
           "#FFA15A",
           "#19d3f3",
           "#FF6692",
           "#B6E880",
           "#FF97FF",
           "#FECB52"
          ],
          "font": {
           "color": "#2a3f5f"
          },
          "geo": {
           "bgcolor": "white",
           "lakecolor": "white",
           "landcolor": "#E5ECF6",
           "showlakes": true,
           "showland": true,
           "subunitcolor": "white"
          },
          "hoverlabel": {
           "align": "left"
          },
          "hovermode": "closest",
          "mapbox": {
           "style": "light"
          },
          "paper_bgcolor": "white",
          "plot_bgcolor": "#E5ECF6",
          "polar": {
           "angularaxis": {
            "gridcolor": "white",
            "linecolor": "white",
            "ticks": ""
           },
           "bgcolor": "#E5ECF6",
           "radialaxis": {
            "gridcolor": "white",
            "linecolor": "white",
            "ticks": ""
           }
          },
          "scene": {
           "xaxis": {
            "backgroundcolor": "#E5ECF6",
            "gridcolor": "white",
            "gridwidth": 2,
            "linecolor": "white",
            "showbackground": true,
            "ticks": "",
            "zerolinecolor": "white"
           },
           "yaxis": {
            "backgroundcolor": "#E5ECF6",
            "gridcolor": "white",
            "gridwidth": 2,
            "linecolor": "white",
            "showbackground": true,
            "ticks": "",
            "zerolinecolor": "white"
           },
           "zaxis": {
            "backgroundcolor": "#E5ECF6",
            "gridcolor": "white",
            "gridwidth": 2,
            "linecolor": "white",
            "showbackground": true,
            "ticks": "",
            "zerolinecolor": "white"
           }
          },
          "shapedefaults": {
           "line": {
            "color": "#2a3f5f"
           }
          },
          "ternary": {
           "aaxis": {
            "gridcolor": "white",
            "linecolor": "white",
            "ticks": ""
           },
           "baxis": {
            "gridcolor": "white",
            "linecolor": "white",
            "ticks": ""
           },
           "bgcolor": "#E5ECF6",
           "caxis": {
            "gridcolor": "white",
            "linecolor": "white",
            "ticks": ""
           }
          },
          "title": {
           "x": 0.05
          },
          "xaxis": {
           "automargin": true,
           "gridcolor": "white",
           "linecolor": "white",
           "ticks": "",
           "title": {
            "standoff": 15
           },
           "zerolinecolor": "white",
           "zerolinewidth": 2
          },
          "yaxis": {
           "automargin": true,
           "gridcolor": "white",
           "linecolor": "white",
           "ticks": "",
           "title": {
            "standoff": 15
           },
           "zerolinecolor": "white",
           "zerolinewidth": 2
          }
         }
        },
        "title": {
         "text": "Test Graph"
        },
        "width": 800,
        "xaxis": {
         "autorange": true,
         "linecolor": "rgb(204, 204, 204)",
         "linewidth": 2,
         "range": [
          -97.00274664908812,
          1788.002746649088
         ],
         "showgrid": true,
         "showline": true,
         "showticklabels": true,
         "tickfont": {
          "color": "rgb(82, 82, 82)",
          "family": "Arial",
          "size": 12
         },
         "ticks": "outside",
         "title": {
          "text": "Steps"
         },
         "type": "linear"
        },
        "yaxis": {
         "autorange": true,
         "linecolor": "rgb(204, 204, 204)",
         "linewidth": 2,
         "range": [
          -902.8620651980095,
          8233.056514359512
         ],
         "showgrid": true,
         "showline": true,
         "showticklabels": true,
         "tickfont": {
          "color": "rgb(82, 82, 82)",
          "family": "Arial",
          "size": 12
         },
         "ticks": "outside",
         "title": {
          "text": "Average Return"
         },
         "type": "linear",
         "zeroline": true
        }
       }
      },
      "image/png": "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",
      "text/html": [
       "<div>                            <div id=\"089a30e8-a7a7-437a-bd4e-dc635a32cdb3\" class=\"plotly-graph-div\" style=\"height:400px; width:800px;\"></div>            <script type=\"text/javascript\">                require([\"plotly\"], function(Plotly) {                    window.PLOTLYENV=window.PLOTLYENV || {};                                    if (document.getElementById(\"089a30e8-a7a7-437a-bd4e-dc635a32cdb3\")) {                    Plotly.newPlot(                        \"089a30e8-a7a7-437a-bd4e-dc635a32cdb3\",                        [{\"line\":{\"color\":\"firebrick\",\"dash\":\"dash\",\"width\":2},\"name\":\"Line 1\",\"x\":[11,67,123,179,235,291,347,403,459,515,571,627,683,739,795,851,907,963,1019,1075,1131,1187,1243,1299,1355,1411,1467,1523,1579,1635,1680],\"y\":[-7.191827495745069,-31.630119747480073,-26.01604240403602,648.5403934140012,2230.3681914902927,2496.102171157157,3529.3198723595283,3788.9648865302856,3847.558008609126,4081.3218940764295,4427.022591291778,5209.814485614904,5755.377458322516,5725.411892364649,6249.7050334533815,5941.147526438264,5869.3155881686735,7050.034912121393,7009.580584215717,7268.05029363611,7146.078890307354,7031.748134865328,7240.544383034362,7214.036294911362,7401.271435354343,7307.311063405457,7419.9612774048355,7317.312166295378,7369.320318226045,7503.950082031106,7220.364646457331],\"type\":\"scatter\"},{\"line\":{\"color\":\"royalblue\",\"width\":2},\"mode\":\"lines+markers\",\"name\":\"Line 2\",\"x\":[11,67,123,179,235,291,347,403,459,515,571,627,683,739,795,851,907,963,1019,1075,1131,1187,1243,1299,1355,1411,1467,1523,1579,1635,1680],\"y\":[-7.402046963260551,-84.6836555334162,-282.9247330137491,-80.07222524986321,-76.40954157345931,-10.381349397831675,-0.5163352851053276,-16.393740324911686,59.22118710565319,-12.372557914617548,44.86943008015632,60.367268425739574,72.80898054416545,50.60051330325186,2942.64222995802,722.4270100872537,766.5948199391628,6062.619186907393,6272.812475436871,6951.677336319644,6637.437071457427,5960.16498250416,6816.022492022086,6400.474286813075,7078.438349208797,6867.378169837827,7127.823401732091,6869.5026091845275,6886.459591454254,7162.858603531412,6677.287674475788],\"type\":\"scatter\"},{\"line\":{\"color\":\"goldenrod\",\"width\":2},\"name\":\"Line 3\",\"x\":[11,67,123,179,235,291,347,403,459,515,571,627,683,739,795,851,907,963,1019,1075,1131,1187,1243,1299,1355,1411,1467,1523,1579,1635,1680],\"y\":[-6.649679999910357,31.722015448699132,187.35252285381782,3057.571192312281,6625.399466992442,6375.451088406225,6663.621200365842,7047.917095580802,7033.328212215516,7136.652773113213,7247.660251885998,7315.188497705664,7512.254648230529,7353.720648218016,7449.409187036588,7445.969963347789,7428.722315349917,7616.914789683683,7530.16494171807,7597.3919143745425,7536.587384008213,7776.260585381637,7535.448090299915,7581.117048950449,7636.109902226398,7679.955088096986,7628.663692967519,7763.410486504045,7594.958639750013,7768.645775000949,7719.210035976948],\"type\":\"scatter\"}],                        {\"template\":{\"data\":{\"histogram2dcontour\":[{\"type\":\"histogram2dcontour\",\"colorbar\":{\"outlinewidth\":0,\"ticks\":\"\"},\"colorscale\":[[0.0,\"#0d0887\"],[0.1111111111111111,\"#46039f\"],[0.2222222222222222,\"#7201a8\"],[0.3333333333333333,\"#9c179e\"],[0.4444444444444444,\"#bd3786\"],[0.5555555555555556,\"#d8576b\"],[0.6666666666666666,\"#ed7953\"],[0.7777777777777778,\"#fb9f3a\"],[0.8888888888888888,\"#fdca26\"],[1.0,\"#f0f921\"]]}],\"choropleth\":[{\"type\":\"choropleth\",\"colorbar\":{\"outlinewidth\":0,\"ticks\":\"\"}}],\"histogram2d\":[{\"type\":\"histogram2d\",\"colorbar\":{\"outlinewidth\":0,\"ticks\":\"\"},\"colorscale\":[[0.0,\"#0d0887\"],[0.1111111111111111,\"#46039f\"],[0.2222222222222222,\"#7201a8\"],[0.3333333333333333,\"#9c179e\"],[0.4444444444444444,\"#bd3786\"],[0.5555555555555556,\"#d8576b\"],[0.6666666666666666,\"#ed7953\"],[0.7777777777777778,\"#fb9f3a\"],[0.8888888888888888,\"#fdca26\"],[1.0,\"#f0f921\"]]}],\"heatmap\":[{\"type\":\"heatmap\",\"colorbar\":{\"outlinewidth\":0,\"ticks\":\"\"},\"colorscale\":[[0.0,\"#0d0887\"],[0.1111111111111111,\"#46039f\"],[0.2222222222222222,\"#7201a8\"],[0.3333333333333333,\"#9c179e\"],[0.4444444444444444,\"#bd3786\"],[0.5555555555555556,\"#d8576b\"],[0.6666666666666666,\"#ed7953\"],[0.7777777777777778,\"#fb9f3a\"],[0.8888888888888888,\"#fdca26\"],[1.0,\"#f0f921\"]]}],\"heatmapgl\":[{\"type\":\"heatmapgl\",\"colorbar\":{\"outlinewidth\":0,\"ticks\":\"\"},\"colorscale\":[[0.0,\"#0d0887\"],[0.1111111111111111,\"#46039f\"],[0.2222222222222222,\"#7201a8\"],[0.3333333333333333,\"#9c179e\"],[0.4444444444444444,\"#bd3786\"],[0.5555555555555556,\"#d8576b\"],[0.6666666666666666,\"#ed7953\"],[0.7777777777777778,\"#fb9f3a\"],[0.8888888888888888,\"#fdca26\"],[1.0,\"#f0f921\"]]}],\"contourcarpet\":[{\"type\":\"contourcarpet\",\"colorbar\":{\"outlinewidth\":0,\"ticks\":\"\"}}],\"contour\":[{\"type\":\"contour\",\"colorbar\":{\"outlinewidth\":0,\"ticks\":\"\"},\"colorscale\":[[0.0,\"#0d0887\"],[0.1111111111111111,\"#46039f\"],[0.2222222222222222,\"#7201a8\"],[0.3333333333333333,\"#9c179e\"],[0.4444444444444444,\"#bd3786\"],[0.5555555555555556,\"#d8576b\"],[0.6666666666666666,\"#ed7953\"],[0.7777777777777778,\"#fb9f3a\"],[0.8888888888888888,\"#fdca26\"],[1.0,\"#f0f921\"]]}],\"surface\":[{\"type\":\"surface\",\"colorbar\":{\"outlinewidth\":0,\"ticks\":\"\"},\"colorscale\":[[0.0,\"#0d0887\"],[0.1111111111111111,\"#46039f\"],[0.2222222222222222,\"#7201a8\"],[0.3333333333333333,\"#9c179e\"],[0.4444444444444444,\"#bd3786\"],[0.5555555555555556,\"#d8576b\"],[0.6666666666666666,\"#ed7953\"],[0.7777777777777778,\"#fb9f3a\"],[0.8888888888888888,\"#fdca26\"],[1.0,\"#f0f921\"]]}],\"mesh3d\":[{\"type\":\"mesh3d\",\"colorbar\":{\"outlinewidth\":0,\"ticks\":\"\"}}],\"scatter\":[{\"fillpattern\":{\"fillmode\":\"overlay\",\"size\":10,\"solidity\":0.2},\"type\":\"scatter\"}],\"parcoords\":[{\"type\":\"parcoords\",\"line\":{\"colorbar\":{\"outlinewidth\":0,\"ticks\":\"\"}}}],\"scatterpolargl\":[{\"type\":\"scatterpolargl\",\"marker\":{\"colorbar\":{\"outlinewidth\":0,\"ticks\":\"\"}}}],\"bar\":[{\"error_x\":{\"color\":\"#2a3f5f\"},\"error_y\":{\"color\":\"#2a3f5f\"},\"marker\":{\"line\":{\"color\":\"#E5ECF6\",\"width\":0.5},\"pattern\":{\"fillmode\":\"overlay\",\"size\":10,\"solidity\":0.2}},\"type\":\"bar\"}],\"scattergeo\":[{\"type\":\"scattergeo\",\"marker\":{\"colorbar\":{\"outlinewidth\":0,\"ticks\":\"\"}}}],\"scatterpolar\":[{\"type\":\"scatterpolar\",\"marker\":{\"colorbar\":{\"outlinewidth\":0,\"ticks\":\"\"}}}],\"histogram\":[{\"marker\":{\"pattern\":{\"fillmode\":\"overlay\",\"size\":10,\"solidity\":0.2}},\"type\":\"histogram\"}],\"scattergl\":[{\"type\":\"scattergl\",\"marker\":{\"colorbar\":{\"outlinewidth\":0,\"ticks\":\"\"}}}],\"scatter3d\":[{\"type\":\"scatter3d\",\"line\":{\"colorbar\":{\"outlinewidth\":0,\"ticks\":\"\"}},\"marker\":{\"colorbar\":{\"outlinewidth\":0,\"ticks\":\"\"}}}],\"scattermapbox\":[{\"type\":\"scattermapbox\",\"marker\":{\"colorbar\":{\"outlinewidth\":0,\"ticks\":\"\"}}}],\"scatterternary\":[{\"type\":\"scatterternary\",\"marker\":{\"colorbar\":{\"outlinewidth\":0,\"ticks\":\"\"}}}],\"scattercarpet\":[{\"type\":\"scattercarpet\",\"marker\":{\"colorbar\":{\"outlinewidth\":0,\"ticks\":\"\"}}}],\"carpet\":[{\"aaxis\":{\"endlinecolor\":\"#2a3f5f\",\"gridcolor\":\"white\",\"linecolor\":\"white\",\"minorgridcolor\":\"white\",\"startlinecolor\":\"#2a3f5f\"},\"baxis\":{\"endlinecolor\":\"#2a3f5f\",\"gridcolor\":\"white\",\"linecolor\":\"white\",\"minorgridcolor\":\"white\",\"startlinecolor\":\"#2a3f5f\"},\"type\":\"carpet\"}],\"table\":[{\"cells\":{\"fill\":{\"color\":\"#EBF0F8\"},\"line\":{\"color\":\"white\"}},\"header\":{\"fill\":{\"color\":\"#C8D4E3\"},\"line\":{\"color\":\"white\"}},\"type\":\"table\"}],\"barpolar\":[{\"marker\":{\"line\":{\"color\":\"#E5ECF6\",\"width\":0.5},\"pattern\":{\"fillmode\":\"overlay\",\"size\":10,\"solidity\":0.2}},\"type\":\"barpolar\"}],\"pie\":[{\"automargin\":true,\"type\":\"pie\"}]},\"layout\":{\"autotypenumbers\":\"strict\",\"colorway\":[\"#636efa\",\"#EF553B\",\"#00cc96\",\"#ab63fa\",\"#FFA15A\",\"#19d3f3\",\"#FF6692\",\"#B6E880\",\"#FF97FF\",\"#FECB52\"],\"font\":{\"color\":\"#2a3f5f\"},\"hovermode\":\"closest\",\"hoverlabel\":{\"align\":\"left\"},\"paper_bgcolor\":\"white\",\"plot_bgcolor\":\"#E5ECF6\",\"polar\":{\"bgcolor\":\"#E5ECF6\",\"angularaxis\":{\"gridcolor\":\"white\",\"linecolor\":\"white\",\"ticks\":\"\"},\"radialaxis\":{\"gridcolor\":\"white\",\"linecolor\":\"white\",\"ticks\":\"\"}},\"ternary\":{\"bgcolor\":\"#E5ECF6\",\"aaxis\":{\"gridcolor\":\"white\",\"linecolor\":\"white\",\"ticks\":\"\"},\"baxis\":{\"gridcolor\":\"white\",\"linecolor\":\"white\",\"ticks\":\"\"},\"caxis\":{\"gridcolor\":\"white\",\"linecolor\":\"white\",\"ticks\":\"\"}},\"coloraxis\":{\"colorbar\":{\"outlinewidth\":0,\"ticks\":\"\"}},\"colorscale\":{\"sequential\":[[0.0,\"#0d0887\"],[0.1111111111111111,\"#46039f\"],[0.2222222222222222,\"#7201a8\"],[0.3333333333333333,\"#9c179e\"],[0.4444444444444444,\"#bd3786\"],[0.5555555555555556,\"#d8576b\"],[0.6666666666666666,\"#ed7953\"],[0.7777777777777778,\"#fb9f3a\"],[0.8888888888888888,\"#fdca26\"],[1.0,\"#f0f921\"]],\"sequentialminus\":[[0.0,\"#0d0887\"],[0.1111111111111111,\"#46039f\"],[0.2222222222222222,\"#7201a8\"],[0.3333333333333333,\"#9c179e\"],[0.4444444444444444,\"#bd3786\"],[0.5555555555555556,\"#d8576b\"],[0.6666666666666666,\"#ed7953\"],[0.7777777777777778,\"#fb9f3a\"],[0.8888888888888888,\"#fdca26\"],[1.0,\"#f0f921\"]],\"diverging\":[[0,\"#8e0152\"],[0.1,\"#c51b7d\"],[0.2,\"#de77ae\"],[0.3,\"#f1b6da\"],[0.4,\"#fde0ef\"],[0.5,\"#f7f7f7\"],[0.6,\"#e6f5d0\"],[0.7,\"#b8e186\"],[0.8,\"#7fbc41\"],[0.9,\"#4d9221\"],[1,\"#276419\"]]},\"xaxis\":{\"gridcolor\":\"white\",\"linecolor\":\"white\",\"ticks\":\"\",\"title\":{\"standoff\":15},\"zerolinecolor\":\"white\",\"automargin\":true,\"zerolinewidth\":2},\"yaxis\":{\"gridcolor\":\"white\",\"linecolor\":\"white\",\"ticks\":\"\",\"title\":{\"standoff\":15},\"zerolinecolor\":\"white\",\"automargin\":true,\"zerolinewidth\":2},\"scene\":{\"xaxis\":{\"backgroundcolor\":\"#E5ECF6\",\"gridcolor\":\"white\",\"linecolor\":\"white\",\"showbackground\":true,\"ticks\":\"\",\"zerolinecolor\":\"white\",\"gridwidth\":2},\"yaxis\":{\"backgroundcolor\":\"#E5ECF6\",\"gridcolor\":\"white\",\"linecolor\":\"white\",\"showbackground\":true,\"ticks\":\"\",\"zerolinecolor\":\"white\",\"gridwidth\":2},\"zaxis\":{\"backgroundcolor\":\"#E5ECF6\",\"gridcolor\":\"white\",\"linecolor\":\"white\",\"showbackground\":true,\"ticks\":\"\",\"zerolinecolor\":\"white\",\"gridwidth\":2}},\"shapedefaults\":{\"line\":{\"color\":\"#2a3f5f\"}},\"annotationdefaults\":{\"arrowcolor\":\"#2a3f5f\",\"arrowhead\":0,\"arrowwidth\":1},\"geo\":{\"bgcolor\":\"white\",\"landcolor\":\"#E5ECF6\",\"subunitcolor\":\"white\",\"showland\":true,\"showlakes\":true,\"lakecolor\":\"white\"},\"title\":{\"x\":0.05},\"mapbox\":{\"style\":\"light\"}}},\"xaxis\":{\"tickfont\":{\"family\":\"Arial\",\"size\":12,\"color\":\"rgb(82, 82, 82)\"},\"title\":{\"text\":\"Steps\"},\"showline\":true,\"showgrid\":true,\"showticklabels\":true,\"linecolor\":\"rgb(204, 204, 204)\",\"linewidth\":2,\"ticks\":\"outside\"},\"yaxis\":{\"tickfont\":{\"family\":\"Arial\",\"size\":12,\"color\":\"rgb(82, 82, 82)\"},\"title\":{\"text\":\"Average Return\"},\"showgrid\":true,\"zeroline\":true,\"showline\":true,\"showticklabels\":true,\"linecolor\":\"rgb(204, 204, 204)\",\"linewidth\":2,\"ticks\":\"outside\"},\"margin\":{\"autoexpand\":true,\"l\":100,\"r\":20,\"t\":110},\"font\":{\"family\":\"Courier New, monospace\",\"size\":18,\"color\":\"RebeccaPurple\"},\"title\":{\"text\":\"Test Graph\"},\"autosize\":false,\"width\":800,\"height\":400,\"showlegend\":true,\"legend\":{\"title\":{\"text\":\"Legend Title\"}},\"plot_bgcolor\":\"white\"},                        {\"responsive\": true}                    ).then(function(){\n",
       "                            \n",
       "var gd = document.getElementById('089a30e8-a7a7-437a-bd4e-dc635a32cdb3');\n",
       "var x = new MutationObserver(function (mutations, observer) {{\n",
       "        var display = window.getComputedStyle(gd).display;\n",
       "        if (!display || display === 'none') {{\n",
       "            console.log([gd, 'removed!']);\n",
       "            Plotly.purge(gd);\n",
       "            observer.disconnect();\n",
       "        }}\n",
       "}});\n",
       "\n",
       "// Listen for the removal of the full notebook cells\n",
       "var notebookContainer = gd.closest('#notebook-container');\n",
       "if (notebookContainer) {{\n",
       "    x.observe(notebookContainer, {childList: true});\n",
       "}}\n",
       "\n",
       "// Listen for the clearing of the current output cell\n",
       "var outputEl = gd.closest('.output');\n",
       "if (outputEl) {{\n",
       "    x.observe(outputEl, {childList: true});\n",
       "}}\n",
       "\n",
       "                        })                };                });            </script>        </div>"
      ]
     },
     "metadata": {},
     "output_type": "display_data"
    }
   ],
   "source": [
    "#| label: test-label2\n",
    "#| fig-cap: \"fig-cap example2\"\n",
    "#| echo: false\n",
    "\n",
    "import pandas as pd\n",
    "import plotly.graph_objects as go\n",
    "import plotly.io as pio\n",
    "pio.renderers.default = \"plotly_mimetype+notebook_connected\"\n",
    "\n",
    "df = pd.read_csv('data/test.csv')\n",
    "\n",
    "# Build figure\n",
    "fig = go.Figure()\n",
    "\n",
    "fig.add_trace(go.Scatter(x=df[\"Step\"], y=df[\"Group: EDAC-D4RL - eval/reward_mean\"], name='Line 1',\n",
    "                         line=dict(color='firebrick', width=2, dash='dash')))\n",
    "\n",
    "fig.add_trace(go.Scatter(x=df[\"Step\"], y=df[\"Group: EDAC-D4RL - eval/reward_mean__MIN\"], name='Line 2',\n",
    "                         mode='lines+markers', line=dict(color='royalblue', width=2,)))\n",
    "\n",
    "fig.add_trace(go.Scatter(x=df[\"Step\"], y=df[\"Group: EDAC-D4RL - eval/reward_mean__MAX\"], name='Line 3',\n",
    "                         line=dict(color='goldenrod', width=2)))\n",
    "\n",
    "fig.update_layout(\n",
    "    title='Test Graph',\n",
    "    xaxis=dict(\n",
    "        title=\"Steps\",\n",
    "        showline=True,\n",
    "        showgrid=True,\n",
    "        showticklabels=True,\n",
    "        linecolor='rgb(204, 204, 204)',\n",
    "        linewidth=2,\n",
    "        ticks='outside',\n",
    "        tickfont=dict(\n",
    "            family='Arial',\n",
    "            size=12,\n",
    "            color='rgb(82, 82, 82)',\n",
    "        ),\n",
    "    ),\n",
    "    yaxis=dict(\n",
    "        title=\"Average Return\",\n",
    "        showgrid=True,\n",
    "        zeroline=True,\n",
    "        showline=True,\n",
    "        showticklabels=True,\n",
    "        linecolor='rgb(204, 204, 204)',\n",
    "        linewidth=2,\n",
    "        ticks='outside',\n",
    "        tickfont=dict(\n",
    "            family='Arial',\n",
    "            size=12,\n",
    "            color='rgb(82, 82, 82)',\n",
    "        )\n",
    "    ),\n",
    "    autosize=False,\n",
    "    width=800,\n",
    "    height=400,\n",
    "    margin=dict(\n",
    "        autoexpand=True,\n",
    "        l=100,\n",
    "        r=20,\n",
    "        t=110,\n",
    "    ),\n",
    "    showlegend=True,\n",
    "    legend_title=\"Legend Title\",\n",
    "    plot_bgcolor='white',\n",
    "    font=dict(\n",
    "        family=\"Courier New, monospace\",\n",
    "        size=18,\n",
    "        color=\"RebeccaPurple\"\n",
    "    )\n",
    ")\n",
    "\n",
    "fig.show()"
   ]
  },
  {
   "cell_type": "markdown",
   "id": "a6899e83-a715-49b0-90df-ec7101437146",
   "metadata": {},
   "source": []
  },
  {
   "cell_type": "markdown",
   "id": "2b4e06d2-b573-453b-8dfa-9ad91271eef4",
   "metadata": {},
   "source": []
  }
 ],
 "metadata": {
  "kernelspec": {
   "display_name": "Python 3",
   "language": "python",
   "name": "python3"
  },
  "language_info": {
   "codemirror_mode": {
    "name": "ipython",
    "version": 3
   },
   "file_extension": ".py",
   "mimetype": "text/x-python",
   "name": "python",
   "nbconvert_exporter": "python",
   "pygments_lexer": "ipython3",
   "version": "3.8.8"
  },
  "vscode": {
   "interpreter": {
    "hash": "916dbcbb3f70747c44a77c7bcd40155683ae19c65e1c03b4aa3499c5328201f1"
   }
  }
 },
 "nbformat": 4,
 "nbformat_minor": 5
}
